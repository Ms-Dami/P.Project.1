{
 "cells": [
  {
   "cell_type": "markdown",
   "metadata": {},
   "source": [
    "# Review (second iteration)\n",
    "\n",
    "Hi, Damilola! \n",
    "\n",
    "I'm glad to continue reviewing your work. My name is David Esparza Jasso. You can find the comments for this second iteration with a \"**v2**\" in their title."
   ]
  },
  {
   "cell_type": "markdown",
   "metadata": {},
   "source": [
    "<div class=\"alert alert-block alert-success\">\n",
    "<b>SECOND ITERARION GENERAL COMMENT</b> <a class=\"tocSkip\"></a>\n",
    "\n",
    "Damilola, congratulations! Your project is approved!! I have nothing else to say, you applied the corrections flawlessly :)\n",
    "    \n",
    "Keep it up!!\n",
    "\n",
    "</div>"
   ]
  },
  {
   "cell_type": "markdown",
   "metadata": {},
   "source": [
    "# Review (first iteration)\n",
    "\n",
    "Hi, Damilola! Please tell me if it's okay if I call you Damilola :)\n",
    "\n",
    "My name is David Esparza Jasso and I'm happy to review your project today!\n",
    "\n",
    "\n",
    "\n",
    "You'll find my comments below. - **please, don't move, modify or delete them**.\n",
    "\n",
    "\n",
    "You can find my comments in green, yellow or red boxes like these:\n",
    "\n",
    "<div class=\"alert alert-block alert-success\">\n",
    "<b>Success</b> <a class=\"tocSkip\"></a>\n",
    "\n",
    "Correct. Everything was done correctly!\n",
    "</div>\n",
    "\n",
    "<div class=\"alert alert-block alert-warning\">\n",
    "<b>Atention</b> <a class=\"tocSkip\"></a>\n",
    "\n",
    "Observations. Some recommendations.\n",
    "</div>\n",
    "\n",
    "<div class=\"alert alert-block alert-danger\">\n",
    "\n",
    "<b>To solve</b> <a class=\"tocSkip\"></a>\n",
    "\n",
    "It needs corrections. The corresponding part requires some corrections. The project can't be approved with uncorrected red comments.\n",
    "</div>\n",
    "\n",
    "You can answer me in these kind of boxes:\n",
    "\n",
    "<div class=\"alert alert-block alert-info\">\n",
    "<b>Student's answer.</b> <a class=\"tocSkip\"></a>\n",
    "\n",
    "    \n",
    "In cells like these you can leave me your comments.\n",
    "</div>\n",
    "\n",
    "Remember that, if you want to leave me a comment in any part of the document, you only have to double click on the cell above, copy the code, paste it in a new cell and replace the phrase \"In cells like these you can leave me your comments\" by your own comment. Just make sure that the cell where you're going to include your comment is in \"Markdown\" format."
   ]
  },
  {
   "cell_type": "markdown",
   "metadata": {},
   "source": [
    "<div class=\"alert alert-block alert-warning\">\n",
    "<b>FIRST ITERATION GENERAL COMMENT</b> <a class=\"tocSkip\"></a>\n",
    "\n",
    "Damilola, the project is going very well! Excellent :)\n",
    "\n",
    "However, there are some little errors in your project. I wrote several comments throughout your project. Please apply the corrections and resubmit your project :)\n",
    "\n",
    "Cheers!\n",
    "\n",
    "</div>"
   ]
  },
  {
   "cell_type": "markdown",
   "metadata": {},
   "source": [
    "## Table Of Content\n",
    "<div id=\"toc\"></div>\n",
    "\n",
    " - [Table of Content ](#toc)\n",
    " - [Import libraries](#importing)\n",
    " - [Check Data](#loading)\n",
    " - [Neighbourhoods and Dropoffs](#neighbours)\n",
    " - [Conclusion](#conclusion)\n",
    " - [Hypothesis Testing](#hypothesis)\n",
    " - [Hypothesis Conclusion](#hypothesis_conclusion)"
   ]
  },
  {
   "cell_type": "markdown",
   "metadata": {},
   "source": [
    "## Import Libraries \n",
    "<div id=\"importing\"></div>"
   ]
  },
  {
   "cell_type": "code",
   "execution_count": 1,
   "metadata": {},
   "outputs": [],
   "source": [
    "#importing necessary libraries\n",
    "import pandas as pd\n",
    "import numpy as np\n",
    "import matplotlib.pyplot as plt\n",
    "from scipy import stats as st\n",
    "import seaborn as sns\n",
    "from scipy.stats import shapiro\n",
    "from scipy.stats import mannwhitneyu"
   ]
  },
  {
   "cell_type": "markdown",
   "metadata": {},
   "source": [
    "## Check Data\n",
    "<div id=\"loading\"></div>"
   ]
  },
  {
   "cell_type": "code",
   "execution_count": 2,
   "metadata": {
    "scrolled": true
   },
   "outputs": [
    {
     "data": {
      "text/html": [
       "<div>\n",
       "<style scoped>\n",
       "    .dataframe tbody tr th:only-of-type {\n",
       "        vertical-align: middle;\n",
       "    }\n",
       "\n",
       "    .dataframe tbody tr th {\n",
       "        vertical-align: top;\n",
       "    }\n",
       "\n",
       "    .dataframe thead th {\n",
       "        text-align: right;\n",
       "    }\n",
       "</style>\n",
       "<table border=\"1\" class=\"dataframe\">\n",
       "  <thead>\n",
       "    <tr style=\"text-align: right;\">\n",
       "      <th></th>\n",
       "      <th>company_name</th>\n",
       "      <th>trips_amount</th>\n",
       "    </tr>\n",
       "  </thead>\n",
       "  <tbody>\n",
       "    <tr>\n",
       "      <th>0</th>\n",
       "      <td>Flash Cab</td>\n",
       "      <td>19558</td>\n",
       "    </tr>\n",
       "    <tr>\n",
       "      <th>1</th>\n",
       "      <td>Taxi Affiliation Services</td>\n",
       "      <td>11422</td>\n",
       "    </tr>\n",
       "    <tr>\n",
       "      <th>2</th>\n",
       "      <td>Medallion Leasing</td>\n",
       "      <td>10367</td>\n",
       "    </tr>\n",
       "    <tr>\n",
       "      <th>3</th>\n",
       "      <td>Yellow Cab</td>\n",
       "      <td>9888</td>\n",
       "    </tr>\n",
       "    <tr>\n",
       "      <th>4</th>\n",
       "      <td>Taxi Affiliation Service Yellow</td>\n",
       "      <td>9299</td>\n",
       "    </tr>\n",
       "  </tbody>\n",
       "</table>\n",
       "</div>"
      ],
      "text/plain": [
       "                      company_name  trips_amount\n",
       "0                        Flash Cab         19558\n",
       "1        Taxi Affiliation Services         11422\n",
       "2                Medallion Leasing         10367\n",
       "3                       Yellow Cab          9888\n",
       "4  Taxi Affiliation Service Yellow          9299"
      ]
     },
     "metadata": {},
     "output_type": "display_data"
    }
   ],
   "source": [
    "#import our first data\n",
    "trips_df = pd.read_csv(\"/datasets/project_sql_result_01.csv\")\n",
    "display(trips_df.head())"
   ]
  },
  {
   "cell_type": "markdown",
   "metadata": {},
   "source": [
    "<div class=\"alert alert-block alert-warning\">\n",
    "<b>Atention</b> <a class=\"tocSkip\"></a>\n",
    "\n",
    "In all projects, it's a good thing to use `display()` instead of `print()` when showing Pandas dataframes and tables, because the visualization is better. Please try it above, when showing the `.head()`"
   ]
  },
  {
   "cell_type": "markdown",
   "metadata": {},
   "source": [
    "<div class=\"alert alert-block alert-info\">\n",
    "<b>The above suggestion has been implemented.</b> <a class=\"tocSkip\"></a>\n",
    "\n",
    "  \n",
    "</div>"
   ]
  },
  {
   "cell_type": "code",
   "execution_count": 3,
   "metadata": {},
   "outputs": [
    {
     "name": "stdout",
     "output_type": "stream",
     "text": [
      "company_name    object\n",
      "trips_amount     int64\n",
      "dtype: object\n"
     ]
    }
   ],
   "source": [
    "#Check the data types of the columns\n",
    "print(trips_df.dtypes)"
   ]
  },
  {
   "cell_type": "code",
   "execution_count": 4,
   "metadata": {
    "scrolled": false
   },
   "outputs": [
    {
     "name": "stdout",
     "output_type": "stream",
     "text": [
      "  dropoff_location_name  average_trips\n",
      "0                  Loop   10727.466667\n",
      "1           River North    9523.666667\n",
      "2         Streeterville    6664.666667\n",
      "3             West Loop    5163.666667\n",
      "4                O'Hare    2546.900000\n"
     ]
    }
   ],
   "source": [
    "#import our second data\n",
    "dropoffs_df = pd.read_csv(\"/datasets/project_sql_result_04.csv\")\n",
    "print(dropoffs_df.head())"
   ]
  },
  {
   "cell_type": "code",
   "execution_count": 5,
   "metadata": {},
   "outputs": [
    {
     "name": "stdout",
     "output_type": "stream",
     "text": [
      "dropoff_location_name     object\n",
      "average_trips            float64\n",
      "dtype: object\n"
     ]
    }
   ],
   "source": [
    "#Check the data types of the columns\n",
    "print(dropoffs_df.dtypes)"
   ]
  },
  {
   "cell_type": "markdown",
   "metadata": {},
   "source": [
    "<div class=\"alert alert-block alert-success\">\n",
    "<b>Success</b> <a class=\"tocSkip\"></a>\n",
    "\n",
    "Good dataframe preliminar checking"
   ]
  },
  {
   "cell_type": "markdown",
   "metadata": {},
   "source": [
    "## Neighbourhoods and Dropoffs\n",
    "<div id=\"neighbours\"></div>"
   ]
  },
  {
   "cell_type": "code",
   "execution_count": 6,
   "metadata": {
    "scrolled": true
   },
   "outputs": [
    {
     "name": "stdout",
     "output_type": "stream",
     "text": [
      "  dropoff_location_name  average_trips\n",
      "0                  Loop   10727.466667\n",
      "1           River North    9523.666667\n",
      "2         Streeterville    6664.666667\n",
      "3             West Loop    5163.666667\n",
      "4                O'Hare    2546.900000\n",
      "5             Lake View    2420.966667\n",
      "6            Grant Park    2068.533333\n",
      "7         Museum Campus    1510.000000\n",
      "8            Gold Coast    1364.233333\n",
      "9    Sheffield & DePaul    1259.766667\n"
     ]
    }
   ],
   "source": [
    "#Identify the top 10 neighbourhoods in terms of dropoffs\n",
    "topten_dropoffs = dropoffs_df.sort_values('average_trips', ascending = False).head(10)\n",
    "print(topten_dropoffs)"
   ]
  },
  {
   "cell_type": "code",
   "execution_count": 7,
   "metadata": {},
   "outputs": [
    {
     "name": "stdout",
     "output_type": "stream",
     "text": [
      "                        company_name  trips_amount\n",
      "0                          Flash Cab         19558\n",
      "1          Taxi Affiliation Services         11422\n",
      "2                  Medallion Leasing         10367\n",
      "3                         Yellow Cab          9888\n",
      "4    Taxi Affiliation Service Yellow          9299\n",
      "5          Chicago Carriage Cab Corp          9181\n",
      "6                       City Service          8448\n",
      "7                           Sun Taxi          7701\n",
      "8          Star North Management LLC          7455\n",
      "9  Blue Ribbon Taxi Association Inc.          5953\n"
     ]
    }
   ],
   "source": [
    "#Get the top ten companies based on the number of rides\n",
    "topten = trips_df.sort_values('trips_amount', ascending = False).head(10)\n",
    "print(topten)"
   ]
  },
  {
   "cell_type": "code",
   "execution_count": 8,
   "metadata": {},
   "outputs": [
    {
     "data": {
      "image/png": "[encoded data removed]",
      "text/plain": [
       "<Figure size 864x432 with 1 Axes>"
      ]
     },
     "metadata": {
      "needs_background": "light"
     },
     "output_type": "display_data"
    }
   ],
   "source": [
    "#Create a bar chart of the number of rides for each taxi company\n",
    "fig = plt.figure(figsize=(12,6)) #increase figure size\n",
    "plt.bar(topten['company_name'], topten['trips_amount'])\n",
    "plt.xticks(rotation=90, fontsize=10) #Increase font size and rotation angle\n",
    "plt.xlabel('Taxi Company')\n",
    "plt.ylabel('Number of rides')\n",
    "plt.title('Number of rides by Taxi Company(Topten)')\n",
    "plt.show()"
   ]
  },
  {
   "cell_type": "markdown",
   "metadata": {},
   "source": [
    "<div class=\"alert alert-block alert-success\">\n",
    "<b>Success</b> <a class=\"tocSkip\"></a>\n",
    "\n",
    "Nice plot"
   ]
  },
  {
   "cell_type": "code",
   "execution_count": 9,
   "metadata": {
    "scrolled": true
   },
   "outputs": [
    {
     "data": {
      "image/png": "[encoded data removed]",
      "text/plain": [
       "<Figure size 432x288 with 1 Axes>"
      ]
     },
     "metadata": {
      "needs_background": "light"
     },
     "output_type": "display_data"
    }
   ],
   "source": [
    "#Create a horizontal bar chart of the number of drop\n",
    "plt.barh(topten_dropoffs['dropoff_location_name'], topten_dropoffs['average_trips'])\n",
    "plt.xlabel('Average Number of dropoffs')\n",
    "plt.ylabel('Neighbourhood')\n",
    "plt.title('Top 10 Neighbourhoods by Number of Dropoffs')\n",
    "plt.show()"
   ]
  },
  {
   "cell_type": "markdown",
   "metadata": {},
   "source": [
    "<div class=\"alert alert-block alert-success\">\n",
    "<b>Success</b> <a class=\"tocSkip\"></a>\n",
    "\n",
    "Perfect! Good that you know how to make horizontal plots!"
   ]
  },
  {
   "cell_type": "markdown",
   "metadata": {},
   "source": [
    "## Conclusion\n",
    "<div id=\"conclusion\"></div>\n",
    "\n",
    "Based on the graph of the top 10 neighborhoods by number of drop-offs, it's clear that the downtown area, Loop, is the most popular destination for ride-sharing services. This is likely due to the high concentration of businesses and entertainment options in this area, which attracts a large number of people who need transportation.\n",
    "\n",
    "The second most popular area is River North, which is also a commercial and residential district known for its dining and nightlife options. Other popular neighborhoods include Streeterville, West Loop Gate, and O'Hare, which is home to Chicago's main airport.\n",
    "\n",
    "From the taxi companies and number of rides graph, we can see that Flash Cab and Taxi Affiliation Services are the most popular taxi companies in Chicago However, it's worth noting that the number of rides for these traditional taxi companies is significantly lower than the number of rides for ride-sharing services like Uber and Lyft.\n",
    "\n",
    "Overall, these findings suggest that the convenience and affordability of ride-sharing services have made them the preferred choice for transportation in Chicago, especially for those traveling to and from commercial and entertainment districts. Traditional taxi companies will need to adapt to the changing market to remain competitive"
   ]
  },
  {
   "cell_type": "markdown",
   "metadata": {},
   "source": [
    "<div class=\"alert alert-block alert-danger\">\n",
    "\n",
    "<b>To solve</b> <a class=\"tocSkip\"></a>\n",
    "\n",
    "The text above is about the hypotheses testing, but we're expecting a conclusion **about the two previous plots.**"
   ]
  },
  {
   "cell_type": "markdown",
   "metadata": {},
   "source": [
    "<div class=\"alert alert-block alert-info\">\n",
    "<b>The above conclusion was mix matched with the  hypothesis conclusion below in the bid to submit early\n",
    "\n",
    "I have adjusted them accordingly.</b> <a class=\"tocSkip\"></a>\n",
    "\n",
    "  \n",
    "</div>"
   ]
  },
  {
   "cell_type": "markdown",
   "metadata": {},
   "source": [
    "## Hypothesis Testing\n",
    "<div id=\"hypothesis\"></div>"
   ]
  },
  {
   "cell_type": "code",
   "execution_count": 10,
   "metadata": {},
   "outputs": [
    {
     "data": {
      "text/html": [
       "<div>\n",
       "<style scoped>\n",
       "    .dataframe tbody tr th:only-of-type {\n",
       "        vertical-align: middle;\n",
       "    }\n",
       "\n",
       "    .dataframe tbody tr th {\n",
       "        vertical-align: top;\n",
       "    }\n",
       "\n",
       "    .dataframe thead th {\n",
       "        text-align: right;\n",
       "    }\n",
       "</style>\n",
       "<table border=\"1\" class=\"dataframe\">\n",
       "  <thead>\n",
       "    <tr style=\"text-align: right;\">\n",
       "      <th></th>\n",
       "      <th>start_ts</th>\n",
       "      <th>weather_conditions</th>\n",
       "      <th>duration_seconds</th>\n",
       "    </tr>\n",
       "  </thead>\n",
       "  <tbody>\n",
       "    <tr>\n",
       "      <th>0</th>\n",
       "      <td>2017-11-25 16:00:00</td>\n",
       "      <td>Good</td>\n",
       "      <td>2410.0</td>\n",
       "    </tr>\n",
       "    <tr>\n",
       "      <th>1</th>\n",
       "      <td>2017-11-25 14:00:00</td>\n",
       "      <td>Good</td>\n",
       "      <td>1920.0</td>\n",
       "    </tr>\n",
       "    <tr>\n",
       "      <th>2</th>\n",
       "      <td>2017-11-25 12:00:00</td>\n",
       "      <td>Good</td>\n",
       "      <td>1543.0</td>\n",
       "    </tr>\n",
       "    <tr>\n",
       "      <th>3</th>\n",
       "      <td>2017-11-04 10:00:00</td>\n",
       "      <td>Good</td>\n",
       "      <td>2512.0</td>\n",
       "    </tr>\n",
       "    <tr>\n",
       "      <th>4</th>\n",
       "      <td>2017-11-11 07:00:00</td>\n",
       "      <td>Good</td>\n",
       "      <td>1440.0</td>\n",
       "    </tr>\n",
       "  </tbody>\n",
       "</table>\n",
       "</div>"
      ],
      "text/plain": [
       "              start_ts weather_conditions  duration_seconds\n",
       "0  2017-11-25 16:00:00               Good            2410.0\n",
       "1  2017-11-25 14:00:00               Good            1920.0\n",
       "2  2017-11-25 12:00:00               Good            1543.0\n",
       "3  2017-11-04 10:00:00               Good            2512.0\n",
       "4  2017-11-11 07:00:00               Good            1440.0"
      ]
     },
     "metadata": {},
     "output_type": "display_data"
    }
   ],
   "source": [
    "#Load the data from the CSV file\n",
    "data = pd.read_csv(\"/datasets/project_sql_result_07.csv\")\n",
    "display(data.head())"
   ]
  },
  {
   "cell_type": "markdown",
   "metadata": {},
   "source": [
    "<div class=\"alert alert-block alert-danger\">\n",
    "\n",
    "<b>To solve</b> <a class=\"tocSkip\"></a>\n",
    "\n",
    "We need to check this dataframe too, just like you checked the other dataframes. And there's a type change for a column of this dataframe that needs to be done."
   ]
  },
  {
   "cell_type": "code",
   "execution_count": 11,
   "metadata": {
    "scrolled": true
   },
   "outputs": [
    {
     "name": "stdout",
     "output_type": "stream",
     "text": [
      "start_ts               object\n",
      "weather_conditions     object\n",
      "duration_seconds      float64\n",
      "dtype: object\n"
     ]
    }
   ],
   "source": [
    "#Check the data types of the columns\n",
    "print(data.dtypes)"
   ]
  },
  {
   "cell_type": "code",
   "execution_count": 12,
   "metadata": {
    "scrolled": true
   },
   "outputs": [
    {
     "name": "stdout",
     "output_type": "stream",
     "text": [
      "<class 'pandas.core.frame.DataFrame'>\n",
      "RangeIndex: 1068 entries, 0 to 1067\n",
      "Data columns (total 3 columns):\n",
      " #   Column              Non-Null Count  Dtype         \n",
      "---  ------              --------------  -----         \n",
      " 0   start_ts            1068 non-null   datetime64[ns]\n",
      " 1   weather_conditions  1068 non-null   object        \n",
      " 2   duration_seconds    1068 non-null   float64       \n",
      "dtypes: datetime64[ns](1), float64(1), object(1)\n",
      "memory usage: 25.2+ KB\n"
     ]
    }
   ],
   "source": [
    "#change date to datetime object\n",
    "data[\"start_ts\"] = pd.to_datetime(data[\"start_ts\"], format=\"%Y-%m-%d\")\n",
    "data.info()"
   ]
  },
  {
   "cell_type": "code",
   "execution_count": 13,
   "metadata": {},
   "outputs": [
    {
     "name": "stdout",
     "output_type": "stream",
     "text": [
      "start_ts              datetime64[ns]\n",
      "weather_conditions            object\n",
      "duration_seconds             float64\n",
      "dtype: object\n"
     ]
    }
   ],
   "source": [
    "# Recheck the data types of the columns\n",
    "print(data.dtypes)"
   ]
  },
  {
   "cell_type": "markdown",
   "metadata": {},
   "source": [
    "<div class=\"alert alert-block alert-info\">\n",
    "<b>The above correction has been implemented .</b> <a class=\"tocSkip\"></a>\n",
    "\n",
    "\n",
    "</div>\n",
    "\n"
   ]
  },
  {
   "cell_type": "markdown",
   "metadata": {},
   "source": [
    "Form the null and alternative hypotheses\n",
    "\n",
    "Null hypothesis: the average duration of rides from the Loop to O'Hare International Airport is the same on rainy Saturdays as on all other days\n",
    "\n",
    "Alternative hypothesis: the average duration of rides from the Loop to O'Hare International Airport is different on rainy Saturdays than on all other days"
   ]
  },
  {
   "cell_type": "code",
   "execution_count": 14,
   "metadata": {},
   "outputs": [],
   "source": [
    "#Split the data into two samples: rainy Saturdays ans all other days\n",
    "rainy_days = data[data['weather_conditions'] == 'Bad']['duration_seconds']\n",
    "other_days = data[data['weather_conditions'] == 'Good']['duration_seconds']"
   ]
  },
  {
   "cell_type": "code",
   "execution_count": 15,
   "metadata": {},
   "outputs": [],
   "source": [
    "#Check for outliers using z-score\n",
    "z_scores = st.zscore(data['duration_seconds'])\n",
    "abs_z_scores = abs(z_scores)\n",
    "filtered_entries = (abs_z_scores < 3)\n",
    "data = data[filtered_entries]\n",
    "\n",
    "#Recalculate the two samples after removing outliers\n",
    "rainy_days = data[data['weather_conditions'] == 'Bad']['duration_seconds']\n",
    "other_days = data[data['weather_conditions'] == 'Good']['duration_seconds']"
   ]
  },
  {
   "cell_type": "code",
   "execution_count": 16,
   "metadata": {},
   "outputs": [
    {
     "name": "stdout",
     "output_type": "stream",
     "text": [
      "Statistics=0.973, p=0.002\n"
     ]
    }
   ],
   "source": [
    "# test for normality\n",
    "stat, p = shapiro(rainy_days)\n",
    "print('Statistics=%.3f, p=%.3f' % (stat, p))"
   ]
  },
  {
   "cell_type": "code",
   "execution_count": 17,
   "metadata": {},
   "outputs": [
    {
     "name": "stdout",
     "output_type": "stream",
     "text": [
      "Sample does not look Gaussian (reject H0)\n",
      "Statistics=0.937, p=0.000\n"
     ]
    }
   ],
   "source": [
    "# interpret\n",
    "alpha = 0.05\n",
    "if p > alpha:\n",
    "    print('Sample looks Gaussian (fail to reject H0)')\n",
    "else:\n",
    "    print('Sample does not look Gaussian (reject H0)')\n",
    "\n",
    "stat, p = shapiro(other_days)\n",
    "print('Statistics=%.3f, p=%.3f' % (stat, p))"
   ]
  },
  {
   "cell_type": "code",
   "execution_count": 18,
   "metadata": {},
   "outputs": [
    {
     "name": "stdout",
     "output_type": "stream",
     "text": [
      "Sample does not look Gaussian (reject H0)\n"
     ]
    }
   ],
   "source": [
    "#  interpret\n",
    "alpha = 0.05\n",
    "if p > alpha:\n",
    "    print('Sample looks Gaussian (fail to reject H0)')\n",
    "else:\n",
    "    print('Sample does not look Gaussian (reject H0)')"
   ]
  },
  {
   "cell_type": "markdown",
   "metadata": {},
   "source": [
    "The Shapiro-Wilk test was applied to both \"rainy_days\" and \"other_days\" samples to check if they follow a normal distribution. The null hypothesis for the Shapiro-Wilk test is that the data was drawn from a normal distribution.\n",
    "\n",
    "For the \"rainy_days\" sample, the test statistic was approximately 0.973 and the p-value was 0.002. For the \"other_days\" sample, the test statistic was approximately 0.937 and the p-value was close to 0. In both cases, the p-value was less than the significance level (α = 0.05), which means we reject the null hypothesis and conclude that the data does not follow a normal distribution.\n",
    "\n",
    "Given these results, it is appropriate to use non-parametric tests (like the Mann-Whitney U test) instead of the t-test to compare these two samples."
   ]
  },
  {
   "cell_type": "code",
   "execution_count": 19,
   "metadata": {},
   "outputs": [],
   "source": [
    "# perform Mann-Whitney U test\n",
    "\n",
    "stat, p = mannwhitneyu(rainy_days, other_days)"
   ]
  },
  {
   "cell_type": "code",
   "execution_count": 20,
   "metadata": {},
   "outputs": [
    {
     "name": "stdout",
     "output_type": "stream",
     "text": [
      "Statistics=107308.000, p=0.000\n"
     ]
    }
   ],
   "source": [
    "# print the statistic and p-value\n",
    "print('Statistics=%.3f, p=%.3f' % (stat, p))"
   ]
  },
  {
   "cell_type": "code",
   "execution_count": 21,
   "metadata": {},
   "outputs": [
    {
     "name": "stdout",
     "output_type": "stream",
     "text": [
      "We reject the null hypothesis\n"
     ]
    }
   ],
   "source": [
    "# interpret the results\n",
    "alpha = 0.05\n",
    "if p < alpha:\n",
    "    print(\"We reject the null hypothesis\")\n",
    "else:\n",
    "    print(\"We cannot reject the null hypothesis\")"
   ]
  },
  {
   "cell_type": "markdown",
   "metadata": {},
   "source": [
    "The Mann-Whitney U test was conducted to examine whether there is a difference in ride durations from the Loop to O'Hare International Airport on rainy Saturdays as compared to all other days. \n",
    "\n",
    "The p-value obtained from the test is 0.000, which is less than the significance level α=0.05. Therefore, we reject the null hypothesis. This indicates that there is a statistically significant difference in ride durations on rainy Saturdays compared to other days. \n",
    "\n",
    "The null hypothesis, which stated that the average ride duration is the same on rainy Saturdays as it is on all other days, is not supported by our analysis. It appears that the weather conditions do have an impact on ride durations."
   ]
  },
  {
   "cell_type": "markdown",
   "metadata": {},
   "source": [
    "<div class=\"alert alert-block alert-warning\">\n",
    "<b>Atention</b> <a class=\"tocSkip\"></a>\n",
    "\n",
    "Let me give you some recommendations: the t-test should be used when your two samples have a normal distribution. To verify this, you can apply a Shapiro test, `st.shapiro()`. Here is a link to see how to use this function: https://docs.scipy.org/doc/scipy/reference/generated/scipy.stats.shapiro.html\n",
    "\n",
    "If the samples do not have a normal distribution, it would be the right thing to use a MannWhitneyU test, `st.mannwhitneyu()`, instead of a T-test. Link: https://docs.scipy.org/doc/scipy/reference/generated/scipy.stats.mannwhitneyu.html\n",
    "    \n",
    "For more theoy about this method, please check this: https://www.statisticssolutions.com/free-resources/directory-of-statistical-analyses/mann-whitney-u-test/#:~:text=Mann%2DWhitney%20U%20test%20is,means%20are%20equal%20or%20not\n",
    "    \n",
    "https://builtin.com/data-science/shapiro-wilk-test"
   ]
  },
  {
   "cell_type": "markdown",
   "metadata": {},
   "source": [
    "<div class=\"alert alert-block alert-info\">\n",
    "<b>Suggestion implemented above.</b> <a class=\"tocSkip\"></a>\n",
    "\n",
    "  \n",
    "\n",
    "</div>"
   ]
  },
  {
   "cell_type": "markdown",
   "metadata": {},
   "source": [
    "## Hypothesis Conclusion\n",
    "<div id=\"hypothesis_conclusion\"></div>\n",
    "\n",
    "We split the data into two samples, one for rainy Saturdays and another for all other days. We set the significance level to 0.05. which means that we will reject the null hypothesis if the p-value is less than 0.05.\n",
    "\n",
    "The null hypothesis is that the average duration of rides from the Loop to O'Hare International Airport is the same on rainy days as on all other days. The alternative hypothesis is that the average duration of rides from the Loop to O'Hare International Airport is the different on rainy days as on all other days.\n",
    "\n",
    "Using the Shapiro Wilk test we see that the null hypothesis that the data was drawn from a normal distribution. The p-value, in both samples, was less than the significance level (α = 0.05), which means we reject the null hypothesis and conclude that the data does not follow a normal distribution.\n",
    "\n",
    "We therefore implemented the use of a non-parametric tests (like the Mann-Whitney U test) instead of the t-test to compare these two samples.\n",
    "\n",
    "Based on the results of the Mann-Whitney U test, the p-value obtained from the test is 0.000, which is less than the significance level α=0.05. \n",
    "\n",
    "Therefore, we reject the null hypothesis. This indicates that there is a statistically significant difference in ride durations on rainy Saturdays compared to other days.\n",
    "\n",
    "In summary, by testing the hypothesis \"The average duration of rides from the Loop to O'Hare International Airport changes on rainy Saturdays,\" we can determine whether the weather conditions have a significant impact on the ride duration. There is a statistically significant difference in ride durations on rainy Saturdays compared to other days. "
   ]
  },
  {
   "cell_type": "markdown",
   "metadata": {},
   "source": [
    "<div class=\"alert alert-block alert-danger\">\n",
    "\n",
    "<b>To solve</b> <a class=\"tocSkip\"></a>\n",
    "\n",
    "The conclusion above is not correct here, this conclusion is about the two plots"
   ]
  },
  {
   "cell_type": "markdown",
   "metadata": {},
   "source": [
    "<div class=\"alert alert-block alert-info\">\n",
    "<b>The above hypothesis conclusion was mix matched with the conclusion in the upper cell bid to submit early\n",
    "\n",
    "I have adjusted them accordingly.</b> <a class=\"tocSkip\"></a>\n",
    "\n",
    "  \n",
    "</div>\n",
    "\n"
   ]
  },
  {
   "cell_type": "code",
   "execution_count": null,
   "metadata": {},
   "outputs": [],
   "source": []
  }
 ],
 "metadata": {
  "kernelspec": {
   "display_name": "Python 3 (ipykernel)",
   "language": "python",
   "name": "python3"
  },
  "language_info": {
   "codemirror_mode": {
    "name": "ipython",
    "version": 3
   },
   "file_extension": ".py",
   "mimetype": "text/x-python",
   "name": "python",
   "nbconvert_exporter": "python",
   "pygments_lexer": "ipython3",
   "version": "3.9.5"
  },
  "toc": {
   "base_numbering": 1,
   "nav_menu": {},
   "number_sections": true,
   "sideBar": true,
   "skip_h1_title": true,
   "title_cell": "Table of Contents",
   "title_sidebar": "Contents",
   "toc_cell": false,
   "toc_position": {},
   "toc_section_display": true,
   "toc_window_display": false
  }
 },
 "nbformat": 4,
 "nbformat_minor": 2
}
